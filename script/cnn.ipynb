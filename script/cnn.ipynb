{
  "cells": [
    {
      "cell_type": "code",
      "execution_count": 1,
      "metadata": {
        "colab": {
          "base_uri": "https://localhost:8080/"
        },
        "id": "R9k6XMgYJZjV",
        "outputId": "e0c7c473-8082-42fc-d225-293bfa1c6003"
      },
      "outputs": [
        {
          "output_type": "stream",
          "name": "stdout",
          "text": [
            "Drive already mounted at /content/gdrive; to attempt to forcibly remount, call drive.mount(\"/content/gdrive\", force_remount=True).\n"
          ]
        }
      ],
      "source": [
        "from google.colab import drive\n",
        "drive.mount('/content/gdrive')"
      ]
    },
    {
      "cell_type": "code",
      "execution_count": 2,
      "metadata": {
        "colab": {
          "base_uri": "https://localhost:8080/"
        },
        "id": "WE_ZD2Y9Je4H",
        "outputId": "46b51221-79eb-4fc4-a2f1-4e3fb44fe565"
      },
      "outputs": [
        {
          "output_type": "stream",
          "name": "stdout",
          "text": [
            "england  india\tusa\n"
          ]
        }
      ],
      "source": [
        "!ls \"/content/gdrive/MyDrive/dataset/train\""
      ]
    },
    {
      "cell_type": "code",
      "execution_count": 6,
      "metadata": {
        "id": "T1fyqrK2JgWm"
      },
      "outputs": [],
      "source": [
        "from __future__ import print_function\n",
        "import numpy as np\n",
        "from tensorflow.keras.utils import to_categorical\n",
        "from sklearn.model_selection import train_test_split\n",
        "import numpy as np\n",
        "import cv2\n",
        "from tensorflow.keras.models import Sequential\n",
        "from tensorflow.keras.layers import Input, Dense, Dropout, Flatten, Conv2D, MaxPooling2D\n",
        "from tensorflow.keras.utils import to_categorical\n",
        "from tensorflow.keras.optimizers import Adam\n",
        "from tensorflow.keras.losses import categorical_crossentropy\n",
        "from tensorflow.keras.callbacks import EarlyStopping, ModelCheckpoint\n",
        "from sklearn.model_selection import train_test_split\n",
        "import glob\n",
        "import matplotlib.pyplot as plt\n",
        "import pandas as pd\n",
        "import seaborn as sns\n",
        "from sklearn.metrics import confusion_matrix\n",
        "from tensorflow.keras.callbacks import LearningRateScheduler"
      ]
    },
    {
      "cell_type": "code",
      "execution_count": 7,
      "metadata": {
        "id": "P_lckPwkJgzg"
      },
      "outputs": [],
      "source": [
        "def load_image_data(paths, label_dict, img_rows=150, img_cols=25):\n",
        "    \"\"\"\n",
        "    Loads images and labels from specified paths.\n",
        "\n",
        "    Parameters:\n",
        "        paths (list): List of paths where the images are located.\n",
        "        label_dict (dict): Dictionary mapping folder names to class indices.\n",
        "        img_rows (int): Target height of the images.\n",
        "        img_cols (int): Target width of the images.\n",
        "\n",
        "    Returns:\n",
        "        tuple: Tuple containing:\n",
        "            - x_data (numpy.ndarray): Array of processed images.\n",
        "            - y_data (numpy.ndarray): Array of one-hot encoded labels.\n",
        "    \"\"\"\n",
        "    x_data = []\n",
        "    y_data = []\n",
        "\n",
        "    for path in paths:\n",
        "        for image_path in glob.glob(path):\n",
        "            img = cv2.imread(image_path, cv2.IMREAD_GRAYSCALE)\n",
        "            if img is not None:\n",
        "                img_resized = cv2.resize(img, (img_rows, img_cols))\n",
        "                x_data.append(img_resized)\n",
        "                # Extract the label from the folder structure\n",
        "                label = image_path.split('/')[-2]  #Get label\n",
        "                y_data.append(label_dict.get(label, -1))\n",
        "            else:\n",
        "                print(f\"Failed to load image: {image_path}\")\n",
        "\n",
        "    x_data = np.array(x_data).reshape(-1, img_rows, img_cols, 1)\n",
        "    x_data = x_data.astype('float32') / 255\n",
        "    y_data = to_categorical(y_data, len(label_dict))\n",
        "\n",
        "    return x_data, y_data\n"
      ]
    },
    {
      "cell_type": "code",
      "execution_count": 8,
      "metadata": {
        "id": "RUDvDEbgJiem"
      },
      "outputs": [],
      "source": [
        "# Define paths and label dictionary\n",
        "val_paths = [\n",
        "    \"/content/gdrive/MyDrive/dataset/val/england/*\",\n",
        "    \"/content/gdrive/MyDrive/dataset/val/india/*\",\n",
        "    \"/content/gdrive/MyDrive/dataset/val/usa/*\"\n",
        "]\n",
        "\n",
        "train_paths = [\n",
        "    \"/content/gdrive/MyDrive/dataset/train/england/*\",\n",
        "    \"/content/gdrive/MyDrive/dataset/train/india/*\",\n",
        "    \"/content/gdrive/MyDrive/dataset/train/usa/*\"\n",
        "]\n",
        "\n",
        "dico_labels = {\n",
        "    'england': 0,\n",
        "    'india': 1,\n",
        "    'usa': 2\n",
        "}\n",
        "\n",
        "# Load validation data\n",
        "x_val, y_val = load_image_data(val_paths, dico_labels)\n",
        "\n",
        "# Load train data\n",
        "x_train, y_train = load_image_data(train_paths, dico_labels)\n"
      ]
    },
    {
      "cell_type": "code",
      "source": [
        "# Count the number of samples per class\n",
        "class_counts = np.sum(y_train, axis=0)\n",
        "print(\"Number of samples per class:\", class_counts)"
      ],
      "metadata": {
        "colab": {
          "base_uri": "https://localhost:8080/"
        },
        "id": "sWzS-_YVQB1E",
        "outputId": "5e02344b-cdcc-4a96-8a19-8623d9c292c7"
      },
      "execution_count": 28,
      "outputs": [
        {
          "output_type": "stream",
          "name": "stdout",
          "text": [
            "Number of samples per class: [348. 581. 976.]\n"
          ]
        }
      ]
    },
    {
      "cell_type": "code",
      "source": [
        "class_counts = np.sum(y_val, axis=0)\n",
        "print(\"Number of samples per class:\", class_counts)"
      ],
      "metadata": {
        "id": "GYc-T8049pd5",
        "outputId": "c8da7356-d9fb-4fc1-f668-0e752f59a038",
        "colab": {
          "base_uri": "https://localhost:8080/"
        }
      },
      "execution_count": 27,
      "outputs": [
        {
          "output_type": "stream",
          "name": "stdout",
          "text": [
            "Number of samples per class: [ 88. 146. 245.]\n"
          ]
        }
      ]
    },
    {
      "cell_type": "code",
      "execution_count": 17,
      "metadata": {
        "id": "-9VtHAfOKfo1"
      },
      "outputs": [],
      "source": [
        "# Model definition\n",
        "from tensorflow.keras.regularizers import l2\n",
        "\n",
        "\n",
        "from tensorflow.keras.optimizers import Adam\n",
        "from tensorflow.keras.models import Sequential\n",
        "from tensorflow.keras.layers import Conv2D, MaxPooling2D, Flatten, Dense, Dropout, Input\n",
        "from tensorflow.keras.layers import BatchNormalization\n",
        "from tensorflow.keras.callbacks import ReduceLROnPlateau, EarlyStopping, ModelCheckpoint\n",
        "from tensorflow.keras.optimizers import AdamW\n",
        "\n",
        "def build_model(input_shape, num_classes):\n",
        "    model = Sequential([\n",
        "        Input(shape=input_shape),\n",
        "\n",
        "        Conv2D(32, kernel_size=(3, 3), activation='relu', kernel_regularizer=l2(0.01)),\n",
        "        BatchNormalization(),\n",
        "        MaxPooling2D(pool_size=(2, 2)),\n",
        "        Dropout(0.25),\n",
        "\n",
        "        Conv2D(64, (3, 3), activation='relu', kernel_regularizer=l2(0.01)),\n",
        "        BatchNormalization(),\n",
        "        MaxPooling2D(pool_size=(2, 2)),\n",
        "        Dropout(0.25),\n",
        "\n",
        "        Conv2D(128, (3, 3), activation='relu', kernel_regularizer=l2(0.01)),\n",
        "        BatchNormalization(),\n",
        "        MaxPooling2D(pool_size=(2, 2)),\n",
        "        Dropout(0.25),\n",
        "\n",
        "        # Additional Conv2D layer for deeper feature extraction\n",
        "        Conv2D(256, (3, 1), activation='relu', kernel_regularizer=l2(0.01)),\n",
        "        BatchNormalization(),\n",
        "        Dropout(0.25),\n",
        "\n",
        "        Flatten(),\n",
        "        Dense(128, activation='relu', kernel_regularizer=l2(0.01)),\n",
        "        Dropout(0.5),\n",
        "        Dense(num_classes, activation='softmax')\n",
        "    ])\n",
        "\n",
        "    optimizer = AdamW(learning_rate=0.001, weight_decay=1e-5)\n",
        "\n",
        "    model.compile(\n",
        "        optimizer=optimizer,\n",
        "        loss='categorical_crossentropy',\n",
        "        metrics=['accuracy']\n",
        "    )\n",
        "    return model\n",
        "\n",
        "input_shape = (150, 25, 1)\n",
        "num_classes = 3\n",
        "\n",
        "es = EarlyStopping(monitor='val_loss', mode='min', verbose=1, patience=20)\n",
        "mc = ModelCheckpoint('./gdrive/MyDrive/cnn/accent_model.keras',\n",
        "                     monitor='val_loss',\n",
        "                     mode='min',\n",
        "                     verbose=1,\n",
        "                     save_best_only=True)\n",
        "lr_scheduler = ReduceLROnPlateau(monitor='val_loss',\n",
        "                                 factor=0.1,\n",
        "                                 patience=3,\n",
        "                                 min_lr=1e-6)"
      ]
    },
    {
      "cell_type": "code",
      "execution_count": null,
      "metadata": {
        "id": "QnzbphBPL6_Y"
      },
      "outputs": [],
      "source": [
        "pip install scikit-learn"
      ]
    },
    {
      "cell_type": "code",
      "source": [
        "from sklearn.utils.class_weight import compute_class_weight\n",
        "\n",
        "\n",
        "class_labels = np.array([0, 1, 2])\n",
        "y_integers = np.argmax(y_train, axis=1)  # Convert one-hot encoded labels to integers\n",
        "\n",
        "# Compute class weights\n",
        "class_weights = compute_class_weight('balanced', classes=class_labels, y=y_integers)\n",
        "class_weight_dict = dict(enumerate(class_weights))\n"
      ],
      "metadata": {
        "id": "-iPDbpGQUHey"
      },
      "execution_count": 18,
      "outputs": []
    },
    {
      "cell_type": "code",
      "source": [
        "model = build_model(input_shape, num_classes)\n",
        "\n",
        "history = model.fit(\n",
        "    x_train, y_train,\n",
        "    epochs=100,\n",
        "    batch_size=16,\n",
        "    validation_data=(x_val, y_val),\n",
        "    callbacks=[es, mc, lr_scheduler],\n",
        "    class_weight=class_weight_dict,\n",
        "    verbose=1\n",
        ")\n",
        "\n",
        "# -----------------------------\n",
        "# Plot training curves\n",
        "# -----------------------------\n",
        "plt.figure(figsize=(12, 5))\n",
        "\n",
        "# Accuracy\n",
        "plt.subplot(1, 2, 1)\n",
        "plt.plot(history.history['accuracy'], label='Train Accuracy')\n",
        "plt.plot(history.history['val_accuracy'], label='Validation Accuracy')\n",
        "plt.title(\"Accuracy\")\n",
        "plt.xlabel('Epochs')\n",
        "plt.ylabel('Accuracy')\n",
        "plt.legend()\n",
        "\n",
        "# Loss\n",
        "plt.subplot(1, 2, 2)\n",
        "plt.plot(history.history['loss'], label='Train Loss')\n",
        "plt.plot(history.history['val_loss'], label='Validation Loss')\n",
        "plt.title(\"Loss\")\n",
        "plt.xlabel('Epochs')\n",
        "plt.ylabel('Loss')\n",
        "plt.legend()\n",
        "\n",
        "plt.tight_layout()\n",
        "plt.show()\n",
        "\n",
        "# -----------------------------\n",
        "# Final model evaluation\n",
        "# -----------------------------\n",
        "score = model.evaluate(x_val, y_val, verbose=0)\n",
        "print('Validation loss:', score[0])\n",
        "print('Validation accuracy:', score[1])\n",
        "\n",
        "# -----------------------------\n",
        "# Confusion matrix\n",
        "# -----------------------------\n",
        "y_pred = model.predict(x_val)\n",
        "y_pred_labels = np.argmax(y_pred, axis=1)\n",
        "y_true_labels = np.argmax(y_val, axis=1)\n",
        "cm = confusion_matrix(y_true_labels, y_pred_labels)\n",
        "\n",
        "plt.figure(figsize=(8, 6))\n",
        "sns.heatmap(cm, annot=True, fmt=\"d\", cmap='Blues')\n",
        "plt.title('Confusion Matrix')\n",
        "plt.ylabel('Actual')\n",
        "plt.xlabel('Predicted')\n",
        "plt.show()\n"
      ],
      "metadata": {
        "colab": {
          "base_uri": "https://localhost:8080/",
          "height": 1000
        },
        "id": "3MoAahOg0Q8I",
        "outputId": "fcb9631d-6acc-4835-b378-0b56434aa4a8"
      },
      "execution_count": 23,
      "outputs": [
        {
          "output_type": "stream",
          "name": "stdout",
          "text": [
            "Epoch 1/100\n",
            "\u001b[1m120/120\u001b[0m \u001b[32m━━━━━━━━━━━━━━━━━━━━\u001b[0m\u001b[37m\u001b[0m \u001b[1m0s\u001b[0m 54ms/step - accuracy: 0.4183 - loss: 7.1877\n",
            "Epoch 1: val_loss did not improve from 1.06008\n",
            "\u001b[1m120/120\u001b[0m \u001b[32m━━━━━━━━━━━━━━━━━━━━\u001b[0m\u001b[37m\u001b[0m \u001b[1m18s\u001b[0m 66ms/step - accuracy: 0.4184 - loss: 7.1860 - val_accuracy: 0.5115 - val_loss: 10.4098 - learning_rate: 0.0010\n",
            "Epoch 2/100\n",
            "\u001b[1m116/120\u001b[0m \u001b[32m━━━━━━━━━━━━━━━━━━━\u001b[0m\u001b[37m━\u001b[0m \u001b[1m0s\u001b[0m 5ms/step - accuracy: 0.4844 - loss: 6.3876\n",
            "Epoch 2: val_loss did not improve from 1.06008\n",
            "\u001b[1m120/120\u001b[0m \u001b[32m━━━━━━━━━━━━━━━━━━━━\u001b[0m\u001b[37m\u001b[0m \u001b[1m1s\u001b[0m 7ms/step - accuracy: 0.4850 - loss: 6.3790 - val_accuracy: 0.5115 - val_loss: 8.2096 - learning_rate: 0.0010\n",
            "Epoch 3/100\n",
            "\u001b[1m112/120\u001b[0m \u001b[32m━━━━━━━━━━━━━━━━━━\u001b[0m\u001b[37m━━\u001b[0m \u001b[1m0s\u001b[0m 5ms/step - accuracy: 0.5578 - loss: 5.4767\n",
            "Epoch 3: val_loss did not improve from 1.06008\n",
            "\u001b[1m120/120\u001b[0m \u001b[32m━━━━━━━━━━━━━━━━━━━━\u001b[0m\u001b[37m\u001b[0m \u001b[1m1s\u001b[0m 6ms/step - accuracy: 0.5561 - loss: 5.4671 - val_accuracy: 0.5115 - val_loss: 6.4040 - learning_rate: 0.0010\n",
            "Epoch 4/100\n",
            "\u001b[1m115/120\u001b[0m \u001b[32m━━━━━━━━━━━━━━━━━━━\u001b[0m\u001b[37m━\u001b[0m \u001b[1m0s\u001b[0m 5ms/step - accuracy: 0.5477 - loss: 4.8579\n",
            "Epoch 4: val_loss did not improve from 1.06008\n",
            "\u001b[1m120/120\u001b[0m \u001b[32m━━━━━━━━━━━━━━━━━━━━\u001b[0m\u001b[37m\u001b[0m \u001b[1m1s\u001b[0m 6ms/step - accuracy: 0.5472 - loss: 4.8513 - val_accuracy: 0.5115 - val_loss: 11.5998 - learning_rate: 0.0010\n",
            "Epoch 5/100\n",
            "\u001b[1m116/120\u001b[0m \u001b[32m━━━━━━━━━━━━━━━━━━━\u001b[0m\u001b[37m━\u001b[0m \u001b[1m0s\u001b[0m 4ms/step - accuracy: 0.5220 - loss: 4.3014\n",
            "Epoch 5: val_loss did not improve from 1.06008\n",
            "\u001b[1m120/120\u001b[0m \u001b[32m━━━━━━━━━━━━━━━━━━━━\u001b[0m\u001b[37m\u001b[0m \u001b[1m1s\u001b[0m 6ms/step - accuracy: 0.5232 - loss: 4.2934 - val_accuracy: 0.5157 - val_loss: 4.9320 - learning_rate: 0.0010\n",
            "Epoch 6/100\n",
            "\u001b[1m117/120\u001b[0m \u001b[32m━━━━━━━━━━━━━━━━━━━\u001b[0m\u001b[37m━\u001b[0m \u001b[1m0s\u001b[0m 5ms/step - accuracy: 0.5534 - loss: 3.7529\n",
            "Epoch 6: val_loss did not improve from 1.06008\n",
            "\u001b[1m120/120\u001b[0m \u001b[32m━━━━━━━━━━━━━━━━━━━━\u001b[0m\u001b[37m\u001b[0m \u001b[1m1s\u001b[0m 6ms/step - accuracy: 0.5533 - loss: 3.7491 - val_accuracy: 0.5783 - val_loss: 3.4728 - learning_rate: 0.0010\n",
            "Epoch 7/100\n",
            "\u001b[1m117/120\u001b[0m \u001b[32m━━━━━━━━━━━━━━━━━━━\u001b[0m\u001b[37m━\u001b[0m \u001b[1m0s\u001b[0m 5ms/step - accuracy: 0.5570 - loss: 3.2518\n",
            "Epoch 7: val_loss did not improve from 1.06008\n",
            "\u001b[1m120/120\u001b[0m \u001b[32m━━━━━━━━━━━━━━━━━━━━\u001b[0m\u001b[37m\u001b[0m \u001b[1m1s\u001b[0m 6ms/step - accuracy: 0.5575 - loss: 3.2496 - val_accuracy: 0.4927 - val_loss: 3.3866 - learning_rate: 0.0010\n",
            "Epoch 8/100\n",
            "\u001b[1m120/120\u001b[0m \u001b[32m━━━━━━━━━━━━━━━━━━━━\u001b[0m\u001b[37m\u001b[0m \u001b[1m0s\u001b[0m 5ms/step - accuracy: 0.6406 - loss: 2.8335\n",
            "Epoch 8: val_loss did not improve from 1.06008\n",
            "\u001b[1m120/120\u001b[0m \u001b[32m━━━━━━━━━━━━━━━━━━━━\u001b[0m\u001b[37m\u001b[0m \u001b[1m1s\u001b[0m 6ms/step - accuracy: 0.6403 - loss: 2.8332 - val_accuracy: 0.6221 - val_loss: 2.6769 - learning_rate: 0.0010\n",
            "Epoch 9/100\n",
            "\u001b[1m117/120\u001b[0m \u001b[32m━━━━━━━━━━━━━━━━━━━\u001b[0m\u001b[37m━\u001b[0m \u001b[1m0s\u001b[0m 5ms/step - accuracy: 0.6047 - loss: 2.5509\n",
            "Epoch 9: val_loss did not improve from 1.06008\n",
            "\u001b[1m120/120\u001b[0m \u001b[32m━━━━━━━━━━━━━━━━━━━━\u001b[0m\u001b[37m\u001b[0m \u001b[1m1s\u001b[0m 6ms/step - accuracy: 0.6043 - loss: 2.5501 - val_accuracy: 0.5324 - val_loss: 2.6488 - learning_rate: 0.0010\n",
            "Epoch 10/100\n",
            "\u001b[1m115/120\u001b[0m \u001b[32m━━━━━━━━━━━━━━━━━━━\u001b[0m\u001b[37m━\u001b[0m \u001b[1m0s\u001b[0m 5ms/step - accuracy: 0.6041 - loss: 2.3216\n",
            "Epoch 10: val_loss did not improve from 1.06008\n",
            "\u001b[1m120/120\u001b[0m \u001b[32m━━━━━━━━━━━━━━━━━━━━\u001b[0m\u001b[37m\u001b[0m \u001b[1m1s\u001b[0m 6ms/step - accuracy: 0.6029 - loss: 2.3212 - val_accuracy: 0.6200 - val_loss: 2.2317 - learning_rate: 0.0010\n",
            "Epoch 11/100\n",
            "\u001b[1m115/120\u001b[0m \u001b[32m━━━━━━━━━━━━━━━━━━━\u001b[0m\u001b[37m━\u001b[0m \u001b[1m0s\u001b[0m 5ms/step - accuracy: 0.6175 - loss: 2.1326\n",
            "Epoch 11: val_loss did not improve from 1.06008\n",
            "\u001b[1m120/120\u001b[0m \u001b[32m━━━━━━━━━━━━━━━━━━━━\u001b[0m\u001b[37m\u001b[0m \u001b[1m1s\u001b[0m 6ms/step - accuracy: 0.6163 - loss: 2.1315 - val_accuracy: 0.5741 - val_loss: 2.6091 - learning_rate: 0.0010\n",
            "Epoch 12/100\n",
            "\u001b[1m117/120\u001b[0m \u001b[32m━━━━━━━━━━━━━━━━━━━\u001b[0m\u001b[37m━\u001b[0m \u001b[1m0s\u001b[0m 6ms/step - accuracy: 0.6140 - loss: 2.0406\n",
            "Epoch 12: val_loss did not improve from 1.06008\n",
            "\u001b[1m120/120\u001b[0m \u001b[32m━━━━━━━━━━━━━━━━━━━━\u001b[0m\u001b[37m\u001b[0m \u001b[1m1s\u001b[0m 8ms/step - accuracy: 0.6133 - loss: 2.0395 - val_accuracy: 0.4551 - val_loss: 2.1547 - learning_rate: 0.0010\n",
            "Epoch 13/100\n",
            "\u001b[1m120/120\u001b[0m \u001b[32m━━━━━━━━━━━━━━━━━━━━\u001b[0m\u001b[37m\u001b[0m \u001b[1m0s\u001b[0m 7ms/step - accuracy: 0.6086 - loss: 1.8479\n",
            "Epoch 13: val_loss did not improve from 1.06008\n",
            "\u001b[1m120/120\u001b[0m \u001b[32m━━━━━━━━━━━━━━━━━━━━\u001b[0m\u001b[37m\u001b[0m \u001b[1m1s\u001b[0m 8ms/step - accuracy: 0.6087 - loss: 1.8476 - val_accuracy: 0.5929 - val_loss: 1.9698 - learning_rate: 0.0010\n",
            "Epoch 14/100\n",
            "\u001b[1m116/120\u001b[0m \u001b[32m━━━━━━━━━━━━━━━━━━━\u001b[0m\u001b[37m━\u001b[0m \u001b[1m0s\u001b[0m 7ms/step - accuracy: 0.6243 - loss: 1.7316\n",
            "Epoch 14: val_loss did not improve from 1.06008\n",
            "\u001b[1m120/120\u001b[0m \u001b[32m━━━━━━━━━━━━━━━━━━━━\u001b[0m\u001b[37m\u001b[0m \u001b[1m1s\u001b[0m 8ms/step - accuracy: 0.6234 - loss: 1.7312 - val_accuracy: 0.6305 - val_loss: 1.6923 - learning_rate: 0.0010\n",
            "Epoch 15/100\n",
            "\u001b[1m120/120\u001b[0m \u001b[32m━━━━━━━━━━━━━━━━━━━━\u001b[0m\u001b[37m\u001b[0m \u001b[1m0s\u001b[0m 5ms/step - accuracy: 0.6039 - loss: 1.6610\n",
            "Epoch 15: val_loss did not improve from 1.06008\n",
            "\u001b[1m120/120\u001b[0m \u001b[32m━━━━━━━━━━━━━━━━━━━━\u001b[0m\u001b[37m\u001b[0m \u001b[1m1s\u001b[0m 6ms/step - accuracy: 0.6038 - loss: 1.6612 - val_accuracy: 0.5992 - val_loss: 1.7904 - learning_rate: 0.0010\n",
            "Epoch 16/100\n",
            "\u001b[1m119/120\u001b[0m \u001b[32m━━━━━━━━━━━━━━━━━━━\u001b[0m\u001b[37m━\u001b[0m \u001b[1m0s\u001b[0m 5ms/step - accuracy: 0.6126 - loss: 1.6122\n",
            "Epoch 16: val_loss did not improve from 1.06008\n",
            "\u001b[1m120/120\u001b[0m \u001b[32m━━━━━━━━━━━━━━━━━━━━\u001b[0m\u001b[37m\u001b[0m \u001b[1m1s\u001b[0m 6ms/step - accuracy: 0.6124 - loss: 1.6119 - val_accuracy: 0.5553 - val_loss: 1.7005 - learning_rate: 0.0010\n",
            "Epoch 17/100\n",
            "\u001b[1m117/120\u001b[0m \u001b[32m━━━━━━━━━━━━━━━━━━━\u001b[0m\u001b[37m━\u001b[0m \u001b[1m0s\u001b[0m 5ms/step - accuracy: 0.6053 - loss: 1.5557\n",
            "Epoch 17: val_loss did not improve from 1.06008\n",
            "\u001b[1m120/120\u001b[0m \u001b[32m━━━━━━━━━━━━━━━━━━━━\u001b[0m\u001b[37m\u001b[0m \u001b[1m1s\u001b[0m 6ms/step - accuracy: 0.6048 - loss: 1.5559 - val_accuracy: 0.2985 - val_loss: 3.8462 - learning_rate: 0.0010\n",
            "Epoch 18/100\n",
            "\u001b[1m120/120\u001b[0m \u001b[32m━━━━━━━━━━━━━━━━━━━━\u001b[0m\u001b[37m\u001b[0m \u001b[1m0s\u001b[0m 5ms/step - accuracy: 0.6406 - loss: 1.4397\n",
            "Epoch 18: val_loss did not improve from 1.06008\n",
            "\u001b[1m120/120\u001b[0m \u001b[32m━━━━━━━━━━━━━━━━━━━━\u001b[0m\u001b[37m\u001b[0m \u001b[1m1s\u001b[0m 6ms/step - accuracy: 0.6406 - loss: 1.4398 - val_accuracy: 0.5428 - val_loss: 1.8105 - learning_rate: 1.0000e-04\n",
            "Epoch 19/100\n",
            "\u001b[1m120/120\u001b[0m \u001b[32m━━━━━━━━━━━━━━━━━━━━\u001b[0m\u001b[37m\u001b[0m \u001b[1m0s\u001b[0m 5ms/step - accuracy: 0.6645 - loss: 1.3518\n",
            "Epoch 19: val_loss did not improve from 1.06008\n",
            "\u001b[1m120/120\u001b[0m \u001b[32m━━━━━━━━━━━━━━━━━━━━\u001b[0m\u001b[37m\u001b[0m \u001b[1m1s\u001b[0m 6ms/step - accuracy: 0.6645 - loss: 1.3519 - val_accuracy: 0.5491 - val_loss: 1.6603 - learning_rate: 1.0000e-04\n",
            "Epoch 20/100\n",
            "\u001b[1m111/120\u001b[0m \u001b[32m━━━━━━━━━━━━━━━━━━\u001b[0m\u001b[37m━━\u001b[0m \u001b[1m0s\u001b[0m 5ms/step - accuracy: 0.6756 - loss: 1.3403\n",
            "Epoch 20: val_loss did not improve from 1.06008\n",
            "\u001b[1m120/120\u001b[0m \u001b[32m━━━━━━━━━━━━━━━━━━━━\u001b[0m\u001b[37m\u001b[0m \u001b[1m1s\u001b[0m 6ms/step - accuracy: 0.6761 - loss: 1.3401 - val_accuracy: 0.5303 - val_loss: 1.6000 - learning_rate: 1.0000e-04\n",
            "Epoch 21/100\n",
            "\u001b[1m119/120\u001b[0m \u001b[32m━━━━━━━━━━━━━━━━━━━\u001b[0m\u001b[37m━\u001b[0m \u001b[1m0s\u001b[0m 5ms/step - accuracy: 0.6679 - loss: 1.2949\n",
            "Epoch 21: val_loss did not improve from 1.06008\n",
            "\u001b[1m120/120\u001b[0m \u001b[32m━━━━━━━━━━━━━━━━━━━━\u001b[0m\u001b[37m\u001b[0m \u001b[1m1s\u001b[0m 6ms/step - accuracy: 0.6680 - loss: 1.2949 - val_accuracy: 0.5658 - val_loss: 1.6262 - learning_rate: 1.0000e-04\n",
            "Epoch 22/100\n",
            "\u001b[1m110/120\u001b[0m \u001b[32m━━━━━━━━━━━━━━━━━━\u001b[0m\u001b[37m━━\u001b[0m \u001b[1m0s\u001b[0m 5ms/step - accuracy: 0.7165 - loss: 1.2379\n",
            "Epoch 22: val_loss did not improve from 1.06008\n",
            "\u001b[1m120/120\u001b[0m \u001b[32m━━━━━━━━━━━━━━━━━━━━\u001b[0m\u001b[37m\u001b[0m \u001b[1m1s\u001b[0m 6ms/step - accuracy: 0.7164 - loss: 1.2377 - val_accuracy: 0.5866 - val_loss: 1.5343 - learning_rate: 1.0000e-04\n",
            "Epoch 23/100\n",
            "\u001b[1m118/120\u001b[0m \u001b[32m━━━━━━━━━━━━━━━━━━━\u001b[0m\u001b[37m━\u001b[0m \u001b[1m0s\u001b[0m 5ms/step - accuracy: 0.7117 - loss: 1.1971\n",
            "Epoch 23: val_loss did not improve from 1.06008\n",
            "\u001b[1m120/120\u001b[0m \u001b[32m━━━━━━━━━━━━━━━━━━━━\u001b[0m\u001b[37m\u001b[0m \u001b[1m1s\u001b[0m 7ms/step - accuracy: 0.7116 - loss: 1.1975 - val_accuracy: 0.6013 - val_loss: 1.4914 - learning_rate: 1.0000e-04\n",
            "Epoch 24/100\n",
            "\u001b[1m115/120\u001b[0m \u001b[32m━━━━━━━━━━━━━━━━━━━\u001b[0m\u001b[37m━\u001b[0m \u001b[1m0s\u001b[0m 5ms/step - accuracy: 0.6885 - loss: 1.2019\n",
            "Epoch 24: val_loss did not improve from 1.06008\n",
            "\u001b[1m120/120\u001b[0m \u001b[32m━━━━━━━━━━━━━━━━━━━━\u001b[0m\u001b[37m\u001b[0m \u001b[1m1s\u001b[0m 7ms/step - accuracy: 0.6887 - loss: 1.2014 - val_accuracy: 0.6430 - val_loss: 1.3935 - learning_rate: 1.0000e-04\n",
            "Epoch 25/100\n",
            "\u001b[1m116/120\u001b[0m \u001b[32m━━━━━━━━━━━━━━━━━━━\u001b[0m\u001b[37m━\u001b[0m \u001b[1m0s\u001b[0m 6ms/step - accuracy: 0.7292 - loss: 1.1476\n",
            "Epoch 25: val_loss did not improve from 1.06008\n",
            "\u001b[1m120/120\u001b[0m \u001b[32m━━━━━━━━━━━━━━━━━━━━\u001b[0m\u001b[37m\u001b[0m \u001b[1m1s\u001b[0m 8ms/step - accuracy: 0.7290 - loss: 1.1476 - val_accuracy: 0.5992 - val_loss: 1.5399 - learning_rate: 1.0000e-04\n",
            "Epoch 26/100\n",
            "\u001b[1m117/120\u001b[0m \u001b[32m━━━━━━━━━━━━━━━━━━━\u001b[0m\u001b[37m━\u001b[0m \u001b[1m0s\u001b[0m 7ms/step - accuracy: 0.7369 - loss: 1.1010\n",
            "Epoch 26: val_loss did not improve from 1.06008\n",
            "\u001b[1m120/120\u001b[0m \u001b[32m━━━━━━━━━━━━━━━━━━━━\u001b[0m\u001b[37m\u001b[0m \u001b[1m1s\u001b[0m 9ms/step - accuracy: 0.7367 - loss: 1.1015 - val_accuracy: 0.6117 - val_loss: 1.4040 - learning_rate: 1.0000e-04\n",
            "Epoch 27/100\n",
            "\u001b[1m120/120\u001b[0m \u001b[32m━━━━━━━━━━━━━━━━━━━━\u001b[0m\u001b[37m\u001b[0m \u001b[1m0s\u001b[0m 6ms/step - accuracy: 0.7238 - loss: 1.1201\n",
            "Epoch 27: val_loss did not improve from 1.06008\n",
            "\u001b[1m120/120\u001b[0m \u001b[32m━━━━━━━━━━━━━━━━━━━━\u001b[0m\u001b[37m\u001b[0m \u001b[1m1s\u001b[0m 7ms/step - accuracy: 0.7238 - loss: 1.1201 - val_accuracy: 0.6576 - val_loss: 1.2574 - learning_rate: 1.0000e-04\n",
            "Epoch 28/100\n",
            "\u001b[1m117/120\u001b[0m \u001b[32m━━━━━━━━━━━━━━━━━━━\u001b[0m\u001b[37m━\u001b[0m \u001b[1m0s\u001b[0m 5ms/step - accuracy: 0.7234 - loss: 1.0938\n",
            "Epoch 28: val_loss did not improve from 1.06008\n",
            "\u001b[1m120/120\u001b[0m \u001b[32m━━━━━━━━━━━━━━━━━━━━\u001b[0m\u001b[37m\u001b[0m \u001b[1m1s\u001b[0m 6ms/step - accuracy: 0.7233 - loss: 1.0935 - val_accuracy: 0.5553 - val_loss: 1.3844 - learning_rate: 1.0000e-04\n",
            "Epoch 29/100\n",
            "\u001b[1m110/120\u001b[0m \u001b[32m━━━━━━━━━━━━━━━━━━\u001b[0m\u001b[37m━━\u001b[0m \u001b[1m0s\u001b[0m 5ms/step - accuracy: 0.7380 - loss: 1.0666\n",
            "Epoch 29: val_loss did not improve from 1.06008\n",
            "\u001b[1m120/120\u001b[0m \u001b[32m━━━━━━━━━━━━━━━━━━━━\u001b[0m\u001b[37m\u001b[0m \u001b[1m1s\u001b[0m 6ms/step - accuracy: 0.7372 - loss: 1.0663 - val_accuracy: 0.5762 - val_loss: 1.4108 - learning_rate: 1.0000e-04\n",
            "Epoch 30/100\n",
            "\u001b[1m112/120\u001b[0m \u001b[32m━━━━━━━━━━━━━━━━━━\u001b[0m\u001b[37m━━\u001b[0m \u001b[1m0s\u001b[0m 5ms/step - accuracy: 0.7256 - loss: 1.0444\n",
            "Epoch 30: val_loss did not improve from 1.06008\n",
            "\u001b[1m120/120\u001b[0m \u001b[32m━━━━━━━━━━━━━━━━━━━━\u001b[0m\u001b[37m\u001b[0m \u001b[1m1s\u001b[0m 6ms/step - accuracy: 0.7265 - loss: 1.0441 - val_accuracy: 0.6326 - val_loss: 1.3135 - learning_rate: 1.0000e-04\n",
            "Epoch 31/100\n",
            "\u001b[1m114/120\u001b[0m \u001b[32m━━━━━━━━━━━━━━━━━━━\u001b[0m\u001b[37m━\u001b[0m \u001b[1m0s\u001b[0m 5ms/step - accuracy: 0.7496 - loss: 1.0231\n",
            "Epoch 31: val_loss did not improve from 1.06008\n",
            "\u001b[1m120/120\u001b[0m \u001b[32m━━━━━━━━━━━━━━━━━━━━\u001b[0m\u001b[37m\u001b[0m \u001b[1m1s\u001b[0m 6ms/step - accuracy: 0.7498 - loss: 1.0218 - val_accuracy: 0.6430 - val_loss: 1.3211 - learning_rate: 1.0000e-05\n",
            "Epoch 32/100\n",
            "\u001b[1m116/120\u001b[0m \u001b[32m━━━━━━━━━━━━━━━━━━━\u001b[0m\u001b[37m━\u001b[0m \u001b[1m0s\u001b[0m 5ms/step - accuracy: 0.7724 - loss: 0.9873\n",
            "Epoch 32: val_loss did not improve from 1.06008\n",
            "\u001b[1m120/120\u001b[0m \u001b[32m━━━━━━━━━━━━━━━━━━━━\u001b[0m\u001b[37m\u001b[0m \u001b[1m1s\u001b[0m 6ms/step - accuracy: 0.7719 - loss: 0.9877 - val_accuracy: 0.6409 - val_loss: 1.3382 - learning_rate: 1.0000e-05\n",
            "Epoch 33/100\n",
            "\u001b[1m113/120\u001b[0m \u001b[32m━━━━━━━━━━━━━━━━━━\u001b[0m\u001b[37m━━\u001b[0m \u001b[1m0s\u001b[0m 5ms/step - accuracy: 0.7446 - loss: 1.0173\n",
            "Epoch 33: val_loss did not improve from 1.06008\n",
            "\u001b[1m120/120\u001b[0m \u001b[32m━━━━━━━━━━━━━━━━━━━━\u001b[0m\u001b[37m\u001b[0m \u001b[1m1s\u001b[0m 6ms/step - accuracy: 0.7452 - loss: 1.0162 - val_accuracy: 0.6305 - val_loss: 1.3673 - learning_rate: 1.0000e-05\n",
            "Epoch 34/100\n",
            "\u001b[1m113/120\u001b[0m \u001b[32m━━━━━━━━━━━━━━━━━━\u001b[0m\u001b[37m━━\u001b[0m \u001b[1m0s\u001b[0m 5ms/step - accuracy: 0.7607 - loss: 0.9925\n",
            "Epoch 34: val_loss did not improve from 1.06008\n",
            "\u001b[1m120/120\u001b[0m \u001b[32m━━━━━━━━━━━━━━━━━━━━\u001b[0m\u001b[37m\u001b[0m \u001b[1m1s\u001b[0m 6ms/step - accuracy: 0.7603 - loss: 0.9924 - val_accuracy: 0.6367 - val_loss: 1.3426 - learning_rate: 1.0000e-06\n",
            "Epoch 35/100\n",
            "\u001b[1m111/120\u001b[0m \u001b[32m━━━━━━━━━━━━━━━━━━\u001b[0m\u001b[37m━━\u001b[0m \u001b[1m0s\u001b[0m 5ms/step - accuracy: 0.7332 - loss: 1.0191\n",
            "Epoch 35: val_loss did not improve from 1.06008\n",
            "\u001b[1m120/120\u001b[0m \u001b[32m━━━━━━━━━━━━━━━━━━━━\u001b[0m\u001b[37m\u001b[0m \u001b[1m1s\u001b[0m 6ms/step - accuracy: 0.7344 - loss: 1.0177 - val_accuracy: 0.6367 - val_loss: 1.3397 - learning_rate: 1.0000e-06\n",
            "Epoch 36/100\n",
            "\u001b[1m110/120\u001b[0m \u001b[32m━━━━━━━━━━━━━━━━━━\u001b[0m\u001b[37m━━\u001b[0m \u001b[1m0s\u001b[0m 5ms/step - accuracy: 0.7683 - loss: 0.9607\n",
            "Epoch 36: val_loss did not improve from 1.06008\n",
            "\u001b[1m120/120\u001b[0m \u001b[32m━━━━━━━━━━━━━━━━━━━━\u001b[0m\u001b[37m\u001b[0m \u001b[1m1s\u001b[0m 6ms/step - accuracy: 0.7672 - loss: 0.9623 - val_accuracy: 0.6367 - val_loss: 1.3405 - learning_rate: 1.0000e-06\n",
            "Epoch 37/100\n",
            "\u001b[1m114/120\u001b[0m \u001b[32m━━━━━━━━━━━━━━━━━━━\u001b[0m\u001b[37m━\u001b[0m \u001b[1m0s\u001b[0m 6ms/step - accuracy: 0.7790 - loss: 0.9880\n",
            "Epoch 37: val_loss did not improve from 1.06008\n",
            "\u001b[1m120/120\u001b[0m \u001b[32m━━━━━━━━━━━━━━━━━━━━\u001b[0m\u001b[37m\u001b[0m \u001b[1m1s\u001b[0m 7ms/step - accuracy: 0.7777 - loss: 0.9890 - val_accuracy: 0.6388 - val_loss: 1.3346 - learning_rate: 1.0000e-06\n",
            "Epoch 38/100\n",
            "\u001b[1m117/120\u001b[0m \u001b[32m━━━━━━━━━━━━━━━━━━━\u001b[0m\u001b[37m━\u001b[0m \u001b[1m0s\u001b[0m 6ms/step - accuracy: 0.7600 - loss: 0.9836\n",
            "Epoch 38: val_loss did not improve from 1.06008\n",
            "\u001b[1m120/120\u001b[0m \u001b[32m━━━━━━━━━━━━━━━━━━━━\u001b[0m\u001b[37m\u001b[0m \u001b[1m1s\u001b[0m 8ms/step - accuracy: 0.7600 - loss: 0.9839 - val_accuracy: 0.6367 - val_loss: 1.3387 - learning_rate: 1.0000e-06\n",
            "Epoch 39/100\n",
            "\u001b[1m114/120\u001b[0m \u001b[32m━━━━━━━━━━━━━━━━━━━\u001b[0m\u001b[37m━\u001b[0m \u001b[1m0s\u001b[0m 7ms/step - accuracy: 0.7863 - loss: 0.9774\n",
            "Epoch 39: val_loss did not improve from 1.06008\n",
            "\u001b[1m120/120\u001b[0m \u001b[32m━━━━━━━━━━━━━━━━━━━━\u001b[0m\u001b[37m\u001b[0m \u001b[1m1s\u001b[0m 8ms/step - accuracy: 0.7856 - loss: 0.9781 - val_accuracy: 0.6347 - val_loss: 1.3431 - learning_rate: 1.0000e-06\n",
            "Epoch 40/100\n",
            "\u001b[1m112/120\u001b[0m \u001b[32m━━━━━━━━━━━━━━━━━━\u001b[0m\u001b[37m━━\u001b[0m \u001b[1m0s\u001b[0m 6ms/step - accuracy: 0.7456 - loss: 0.9826\n",
            "Epoch 40: val_loss did not improve from 1.06008\n",
            "\u001b[1m120/120\u001b[0m \u001b[32m━━━━━━━━━━━━━━━━━━━━\u001b[0m\u001b[37m\u001b[0m \u001b[1m1s\u001b[0m 8ms/step - accuracy: 0.7471 - loss: 0.9826 - val_accuracy: 0.6367 - val_loss: 1.3482 - learning_rate: 1.0000e-06\n",
            "Epoch 41/100\n",
            "\u001b[1m113/120\u001b[0m \u001b[32m━━━━━━━━━━━━━━━━━━\u001b[0m\u001b[37m━━\u001b[0m \u001b[1m0s\u001b[0m 5ms/step - accuracy: 0.7517 - loss: 1.0253\n",
            "Epoch 41: val_loss did not improve from 1.06008\n",
            "\u001b[1m120/120\u001b[0m \u001b[32m━━━━━━━━━━━━━━━━━━━━\u001b[0m\u001b[37m\u001b[0m \u001b[1m1s\u001b[0m 6ms/step - accuracy: 0.7517 - loss: 1.0241 - val_accuracy: 0.6347 - val_loss: 1.3355 - learning_rate: 1.0000e-06\n",
            "Epoch 42/100\n",
            "\u001b[1m112/120\u001b[0m \u001b[32m━━━━━━━━━━━━━━━━━━\u001b[0m\u001b[37m━━\u001b[0m \u001b[1m0s\u001b[0m 5ms/step - accuracy: 0.7782 - loss: 0.9552\n",
            "Epoch 42: val_loss did not improve from 1.06008\n",
            "\u001b[1m120/120\u001b[0m \u001b[32m━━━━━━━━━━━━━━━━━━━━\u001b[0m\u001b[37m\u001b[0m \u001b[1m1s\u001b[0m 6ms/step - accuracy: 0.7776 - loss: 0.9567 - val_accuracy: 0.6347 - val_loss: 1.3444 - learning_rate: 1.0000e-06\n",
            "Epoch 43/100\n",
            "\u001b[1m114/120\u001b[0m \u001b[32m━━━━━━━━━━━━━━━━━━━\u001b[0m\u001b[37m━\u001b[0m \u001b[1m0s\u001b[0m 5ms/step - accuracy: 0.7665 - loss: 1.0130\n",
            "Epoch 43: val_loss did not improve from 1.06008\n",
            "\u001b[1m120/120\u001b[0m \u001b[32m━━━━━━━━━━━━━━━━━━━━\u001b[0m\u001b[37m\u001b[0m \u001b[1m1s\u001b[0m 6ms/step - accuracy: 0.7668 - loss: 1.0119 - val_accuracy: 0.6367 - val_loss: 1.3342 - learning_rate: 1.0000e-06\n",
            "Epoch 44/100\n",
            "\u001b[1m113/120\u001b[0m \u001b[32m━━━━━━━━━━━━━━━━━━\u001b[0m\u001b[37m━━\u001b[0m \u001b[1m0s\u001b[0m 5ms/step - accuracy: 0.7739 - loss: 0.9616\n",
            "Epoch 44: val_loss did not improve from 1.06008\n",
            "\u001b[1m120/120\u001b[0m \u001b[32m━━━━━━━━━━━━━━━━━━━━\u001b[0m\u001b[37m\u001b[0m \u001b[1m1s\u001b[0m 6ms/step - accuracy: 0.7738 - loss: 0.9623 - val_accuracy: 0.6367 - val_loss: 1.3410 - learning_rate: 1.0000e-06\n",
            "Epoch 45/100\n",
            "\u001b[1m114/120\u001b[0m \u001b[32m━━━━━━━━━━━━━━━━━━━\u001b[0m\u001b[37m━\u001b[0m \u001b[1m0s\u001b[0m 5ms/step - accuracy: 0.7714 - loss: 1.0029\n",
            "Epoch 45: val_loss did not improve from 1.06008\n",
            "\u001b[1m120/120\u001b[0m \u001b[32m━━━━━━━━━━━━━━━━━━━━\u001b[0m\u001b[37m\u001b[0m \u001b[1m1s\u001b[0m 6ms/step - accuracy: 0.7720 - loss: 1.0012 - val_accuracy: 0.6326 - val_loss: 1.3417 - learning_rate: 1.0000e-06\n",
            "Epoch 46/100\n",
            "\u001b[1m113/120\u001b[0m \u001b[32m━━━━━━━━━━━━━━━━━━\u001b[0m\u001b[37m━━\u001b[0m \u001b[1m0s\u001b[0m 5ms/step - accuracy: 0.7614 - loss: 0.9806\n",
            "Epoch 46: val_loss did not improve from 1.06008\n",
            "\u001b[1m120/120\u001b[0m \u001b[32m━━━━━━━━━━━━━━━━━━━━\u001b[0m\u001b[37m\u001b[0m \u001b[1m1s\u001b[0m 6ms/step - accuracy: 0.7613 - loss: 0.9814 - val_accuracy: 0.6347 - val_loss: 1.3420 - learning_rate: 1.0000e-06\n",
            "Epoch 47/100\n",
            "\u001b[1m117/120\u001b[0m \u001b[32m━━━━━━━━━━━━━━━━━━━\u001b[0m\u001b[37m━\u001b[0m \u001b[1m0s\u001b[0m 5ms/step - accuracy: 0.7838 - loss: 0.9656\n",
            "Epoch 47: val_loss did not improve from 1.06008\n",
            "\u001b[1m120/120\u001b[0m \u001b[32m━━━━━━━━━━━━━━━━━━━━\u001b[0m\u001b[37m\u001b[0m \u001b[1m1s\u001b[0m 6ms/step - accuracy: 0.7834 - loss: 0.9659 - val_accuracy: 0.6305 - val_loss: 1.3358 - learning_rate: 1.0000e-06\n",
            "Epoch 47: early stopping\n"
          ]
        },
        {
          "output_type": "display_data",
          "data": {
            "text/plain": [
              "<Figure size 1200x500 with 2 Axes>"
            ],
            "image/png": "[encoded data removed]"
          },
          "metadata": {}
        },
        {
          "output_type": "stream",
          "name": "stdout",
          "text": [
            "Validation loss: 1.335758924484253\n",
            "Validation accuracy: 0.630480170249939\n",
            "\u001b[1m15/15\u001b[0m \u001b[32m━━━━━━━━━━━━━━━━━━━━\u001b[0m\u001b[37m\u001b[0m \u001b[1m1s\u001b[0m 43ms/step\n"
          ]
        },
        {
          "output_type": "display_data",
          "data": {
            "text/plain": [
              "<Figure size 800x600 with 2 Axes>"
            ],
            "image/png": "[encoded data removed]"
          },
          "metadata": {}
        }
      ]
    },
    {
      "cell_type": "code",
      "source": [
        "# Precision, Recall, and F1 Score calculation\n",
        "TP = np.diag(cm)  # True Positives are on the diagonal\n",
        "FP = cm.sum(axis=0) - TP  # False Positives are the column sums minus the diagonal\n",
        "FN = cm.sum(axis=1) - TP  # False Negatives are the row sums minus the diagonal\n",
        "\n",
        "precision = np.sum(TP / (TP + FP)) / len(TP)  # Precision per class, then average\n",
        "recall = np.sum(TP / (TP + FN)) / len(TP)  # Recall per class, then average\n",
        "f1_score = 2 * (precision * recall) / (precision + recall)  # F1 Score\n",
        "\n",
        "print(f\"Average Precision: {precision:.4f}\")\n",
        "print(f\"Average Recall: {recall:.4f}\")\n",
        "print(f\"F1 Score: {f1_score:.4f}\")\n"
      ],
      "metadata": {
        "colab": {
          "base_uri": "https://localhost:8080/"
        },
        "id": "gO00EKE1YqbF",
        "outputId": "c5bb8af2-1edf-479b-ec61-83305af88dc4"
      },
      "execution_count": 24,
      "outputs": [
        {
          "output_type": "stream",
          "name": "stdout",
          "text": [
            "Average Precision: 0.6998\n",
            "Average Recall: 0.5414\n",
            "F1 Score: 0.6105\n"
          ]
        }
      ]
    },
    {
      "cell_type": "code",
      "source": [
        "import numpy as np\n",
        "\n",
        "# cm is a 3x3 confusion matrix: rows = true classes, cols = predicted classes\n",
        "\n",
        "# True Positives: diagonal elements\n",
        "TP = np.diag(cm)\n",
        "\n",
        "# False Positives: column sum minus diagonal\n",
        "FP = cm.sum(axis=0) - TP\n",
        "\n",
        "# False Negatives: row sum minus diagonal\n",
        "FN = cm.sum(axis=1) - TP\n",
        "\n",
        "# ----- Per-class metrics -----\n",
        "precision_per_class = TP / (TP + FP)\n",
        "recall_per_class    = TP / (TP + FN)\n",
        "f1_per_class        = 2 * precision_per_class * recall_per_class / (precision_per_class + recall_per_class)\n",
        "\n",
        "# ----- Macro average (unweighted) -----\n",
        "macro_precision = precision_per_class.mean()\n",
        "macro_recall    = recall_per_class.mean()\n",
        "macro_f1        = f1_per_class.mean()\n",
        "\n",
        "# ----- Print results -----\n",
        "for i in range(len(TP)):\n",
        "    print(f\"Class {i}:\")\n",
        "    print(f\"  Precision: {precision_per_class[i]:.4f}\")\n",
        "    print(f\"  Recall:    {recall_per_class[i]:.4f}\")\n",
        "    print(f\"  F1 Score:  {f1_per_class[i]:.4f}\\n\")\n",
        "\n",
        "print(\"----- Macro Average -----\")\n",
        "print(f\"Precision: {macro_precision:.4f}\")\n",
        "print(f\"Recall:    {macro_recall:.4f}\")\n",
        "print(f\"F1 Score:  {macro_f1:.4f}\")\n"
      ],
      "metadata": {
        "colab": {
          "base_uri": "https://localhost:8080/"
        },
        "id": "nHqiFiZE022a",
        "outputId": "e8cf2146-6299-4640-a6c5-df9e63509f6f"
      },
      "execution_count": 25,
      "outputs": [
        {
          "output_type": "stream",
          "name": "stdout",
          "text": [
            "Class 0:\n",
            "  Precision: 0.8824\n",
            "  Recall:    0.1705\n",
            "  F1 Score:  0.2857\n",
            "\n",
            "Class 1:\n",
            "  Precision: 0.5368\n",
            "  Recall:    0.6986\n",
            "  F1 Score:  0.6071\n",
            "\n",
            "Class 2:\n",
            "  Precision: 0.6801\n",
            "  Recall:    0.7551\n",
            "  F1 Score:  0.7157\n",
            "\n",
            "----- Macro Average -----\n",
            "Precision: 0.6998\n",
            "Recall:    0.5414\n",
            "F1 Score:  0.5362\n"
          ]
        }
      ]
    },
    {
      "cell_type": "code",
      "source": [],
      "metadata": {
        "id": "m-EVHz6989af"
      },
      "execution_count": null,
      "outputs": []
    }
  ],
  "metadata": {
    "colab": {
      "provenance": [],
      "gpuType": "T4"
    },
    "kernelspec": {
      "display_name": "Python 3",
      "name": "python3"
    },
    "language_info": {
      "name": "python"
    },
    "accelerator": "GPU"
  },
  "nbformat": 4,
  "nbformat_minor": 0
}